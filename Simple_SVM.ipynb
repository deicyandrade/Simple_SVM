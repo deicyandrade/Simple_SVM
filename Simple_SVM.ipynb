{
 "cells": [
  {
   "cell_type": "markdown",
   "id": "bfb47238",
   "metadata": {},
   "source": [
    "# Support Vector Machine (SVM)"
   ]
  },
  {
   "cell_type": "markdown",
   "id": "1321f24a",
   "metadata": {},
   "source": [
    "<p>Máquinas de vectores soporte (SVM ) es un algoritmo de aprendizaje automático supervisado utilizados en problemas de clasificación o regresión. Pero es aplicado especialmente en problemas de clasificación. SVM tiene un enfoque de encontrar hiperplano que divida un conjunto de datos en dos clases.\n",
    "</p>"
   ]
  },
  {
   "cell_type": "markdown",
   "id": "20a0d5e1",
   "metadata": {},
   "source": [
    "<p>Para realizar la práctica de laboratorio sobre SVM, se utilizó la biblioteca sklearn el cual brinda varias funciones que facilitan el aprendizaje automático.  A continuación, se muestran los módulos que se necesitaron importar para la práctica.  \n",
    "</p>"
   ]
  },
  {
   "cell_type": "code",
   "execution_count": 1,
   "id": "e1b8d36c",
   "metadata": {},
   "outputs": [],
   "source": [
    "# import de módulos\n",
    "from sklearn import datasets\n",
    "from sklearn.model_selection import train_test_split\n",
    "from sklearn import svm\n",
    "from sklearn import metrics\n"
   ]
  },
  {
   "cell_type": "markdown",
   "id": "b7973750",
   "metadata": {},
   "source": [
    "<p>Para verificar la información  que contiene el conjunto de datos, se utiliza el import datasets junto al nombre de la base de datos a cargar, después se realizan los print() para obtener las columnas del conjunto. En este caso, se utilizó el conjunto de datos de vinos y se obtuvieron las características, sus etiquetas, su forma y los cinco primeros récords.</p>"
   ]
  },
  {
   "cell_type": "code",
   "execution_count": 12,
   "id": "14e0df48",
   "metadata": {
    "scrolled": false
   },
   "outputs": [
    {
     "name": "stdout",
     "output_type": "stream",
     "text": [
      "Features:\n",
      " ['alcohol', 'malic_acid', 'ash', 'alcalinity_of_ash', 'magnesium', 'total_phenols', 'flavanoids', 'nonflavanoid_phenols', 'proanthocyanins', 'color_intensity', 'hue', 'od280/od315_of_diluted_wines', 'proline']\n",
      "Labels:\n",
      " ['class_0' 'class_1' 'class_2']\n",
      "Shape:\n",
      " (178, 13)\n",
      "Top five records:\n",
      " [[1.423e+01 1.710e+00 2.430e+00 1.560e+01 1.270e+02 2.800e+00 3.060e+00\n",
      "  2.800e-01 2.290e+00 5.640e+00 1.040e+00 3.920e+00 1.065e+03]\n",
      " [1.320e+01 1.780e+00 2.140e+00 1.120e+01 1.000e+02 2.650e+00 2.760e+00\n",
      "  2.600e-01 1.280e+00 4.380e+00 1.050e+00 3.400e+00 1.050e+03]\n",
      " [1.316e+01 2.360e+00 2.670e+00 1.860e+01 1.010e+02 2.800e+00 3.240e+00\n",
      "  3.000e-01 2.810e+00 5.680e+00 1.030e+00 3.170e+00 1.185e+03]\n",
      " [1.437e+01 1.950e+00 2.500e+00 1.680e+01 1.130e+02 3.850e+00 3.490e+00\n",
      "  2.400e-01 2.180e+00 7.800e+00 8.600e-01 3.450e+00 1.480e+03]\n",
      " [1.324e+01 2.590e+00 2.870e+00 2.100e+01 1.180e+02 2.800e+00 2.690e+00\n",
      "  3.900e-01 1.820e+00 4.320e+00 1.040e+00 2.930e+00 7.350e+02]]\n"
     ]
    }
   ],
   "source": [
    "# Cargar el conjunto de datos\n",
    "df = datasets.load_wine()\n",
    "#Imprimir los nombres de los vinos \n",
    "print(\"Features:\\n\", df.feature_names)\n",
    "#Imprime la etiqueta tipo de vino\n",
    "print(\"Labels:\\n\", df.target_names)\n",
    "#Forma de impresión\n",
    "print(\"Shape:\\n\", df.data.shape)\n",
    "#Imprimero los primeros 5 registros\n",
    "print(\"Top five records:\\n\", df.data[0:5])"
   ]
  },
  {
   "cell_type": "markdown",
   "id": "4a194b62",
   "metadata": {},
   "source": [
    "<p>Se selecciona cuáles serán las X e Y para realizar el entrenamiento del modelo, las cuales se nombraron X_train y Y_train. De la misma forma, se seleccionan las x e y para realizar las pruebas y sus variables se nombraron x_test y y_test.  </p>"
   ]
  },
  {
   "cell_type": "code",
   "execution_count": 13,
   "id": "63e99fcc",
   "metadata": {},
   "outputs": [],
   "source": [
    "#Dividir el conjunto de datos en 70% de entrenamiento y 30% de prueba: seleccionar registros al azar\n",
    "X_train, X_test, y_train, y_test = train_test_split(df.data, df.target, test_size=0.3, random_state=109)\n",
    "#x=datos, x=objetivo "
   ]
  },
  {
   "cell_type": "markdown",
   "id": "044c1e08",
   "metadata": {},
   "source": [
    "<p>Se crea un svm con kernel lineal clasificador para cuantificar la similitud de observaciones usando la correlación de Pearson. Después se entrena el modelo con los valores de la variables antes definidas (X_train, Y_train), y por último se utiliza la función de predict() para predecir las respuesta con el conjunto de datos X_test .\n",
    "</p>"
   ]
  },
  {
   "cell_type": "code",
   "execution_count": 14,
   "id": "b6b2244f",
   "metadata": {},
   "outputs": [],
   "source": [
    "#Crea un clasificador svm con kernel lineal\n",
    "clf = svm.SVC(kernel='linear')"
   ]
  },
  {
   "cell_type": "code",
   "execution_count": 15,
   "id": "6dbad61f",
   "metadata": {},
   "outputs": [
    {
     "data": {
      "text/plain": [
       "SVC(kernel='linear')"
      ]
     },
     "execution_count": 15,
     "metadata": {},
     "output_type": "execute_result"
    }
   ],
   "source": [
    "#Entrenar al modelo\n",
    "clf.fit(X_train, y_train)"
   ]
  },
  {
   "cell_type": "code",
   "execution_count": 16,
   "id": "e7b482d1",
   "metadata": {},
   "outputs": [],
   "source": [
    "#Predecir la respuesta para el conjunto de datos de prueba\n",
    "y_pred = clf.predict(X_test)"
   ]
  },
  {
   "cell_type": "markdown",
   "id": "153165c1",
   "metadata": {},
   "source": [
    "<p>Para evaluar el modelo se utiliza el conjunto y_test de prueba y la predicción. Según los datos obtenidos se dice que la frecuencia correcta del clasificador es 0.925926, su precisión es de 0.936112 y su retirada del modelo es de 0.929825</p>"
   ]
  },
  {
   "cell_type": "code",
   "execution_count": 26,
   "id": "787f4bc8",
   "metadata": {
    "scrolled": false
   },
   "outputs": [
    {
     "name": "stdout",
     "output_type": "stream",
     "text": [
      "Accuracy: 0.9259259259259259\n",
      "Precision: 0.9361111111111112\n",
      "Recall: 0.9298245614035089\n"
     ]
    }
   ],
   "source": [
    "##Evaluar el modelo \n",
    "\n",
    "# Concurrencia del modelo: ¿con qué frecuencia es correcto el clasificador?\n",
    "print(\"Accuracy:\", metrics.accuracy_score(y_test, y_pred))\n",
    "\n",
    "# Precisión del modelo: ¿qué porcentaje de tuplas positivas se etiquetan como tales?\n",
    "print(\"Precision:\", metrics.precision_score(y_test, y_pred, average='macro'))\n",
    "\n",
    "# Model Recall: ¿qué porcentaje de tuplas positivas se etiquetan como tales?\n",
    "print(\"Recall:\", metrics.recall_score(y_test, y_pred, average='macro'))"
   ]
  }
 ],
 "metadata": {
  "kernelspec": {
   "display_name": "Python 3 (ipykernel)",
   "language": "python",
   "name": "python3"
  },
  "language_info": {
   "codemirror_mode": {
    "name": "ipython",
    "version": 3
   },
   "file_extension": ".py",
   "mimetype": "text/x-python",
   "name": "python",
   "nbconvert_exporter": "python",
   "pygments_lexer": "ipython3",
   "version": "3.10.0"
  }
 },
 "nbformat": 4,
 "nbformat_minor": 5
}
